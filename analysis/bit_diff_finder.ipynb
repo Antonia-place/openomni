{
 "cells": [
  {
   "cell_type": "code",
   "execution_count": 48,
   "metadata": {
    "collapsed": false
   },
   "outputs": [],
   "source": [
    "import pandas as pd\n",
    "%matplotlib inline\n",
    "import matplotlib\n",
    "import numpy as np\n",
    "import matplotlib.pyplot as plt\n",
    "import dateutil\n",
    "import analysis\n",
    "import itertools\n",
    "\n",
    "packets = analysis.parse_packet_file('data/all.txt')\n",
    "packets += analysis.parse_packet_file('data/temp_basals.txt')\n",
    "\n",
    "\n",
    "# Select valid packets of a particular length\n",
    "packets = filter(lambda x: x.is_valid() and x.body_len == 10, packets)\n",
    "\n",
    "# Uncomment if you want to work with less data (faster while developing)\n",
    "packets = packets[0:100]"
   ]
  },
  {
   "cell_type": "code",
   "execution_count": 49,
   "metadata": {
    "collapsed": false
   },
   "outputs": [],
   "source": [
    "def diff(m1,m2):\n",
    "    xored_bytes = [ord(a) ^ ord(b) for a,b in zip(m1,m2)]\n",
    "    return xored_bytes\n",
    "\n",
    "def bits(data):\n",
    "    return np.unpackbits(np.frombuffer(data, dtype=np.uint8))\n",
    "\n",
    "def join_ints(ints):\n",
    "    return ':'.join(str(x) for x in ints)"
   ]
  },
  {
   "cell_type": "code",
   "execution_count": 61,
   "metadata": {
    "collapsed": false
   },
   "outputs": [],
   "source": [
    "class DiffMessage(object):\n",
    "\n",
    "    # data is passed in like this: ((m1,c1),(m2,c2))\n",
    "    def __init__(self, combination):\n",
    "        self.m1 = combination[0][0]\n",
    "        self.c1 = combination[0][1]\n",
    "        self.m2 = combination[1][0]\n",
    "        self.c2 = combination[1][1]\n",
    "        \n",
    "        # diffs\n",
    "        self.dm = diff(self.m1, self.m2)\n",
    "        self.dc = diff(self.c1, self.c2)\n",
    "        \n",
    "        # diff stats\n",
    "        diff_bits = np.unpackbits(np.array(self.dm, dtype=np.uint8))\n",
    "        self.diff_bits_count = diff_bits.sum()\n",
    "        self.diff_bits_key = join_ints(np.where(diff_bits)[0].tolist())\n",
    "        \n",
    "        self.confirmations = 0\n",
    "        self.conflicts = 0\n",
    "        \n",
    "    def update_observation(self, other):\n",
    "        if other.dc == self.dc:\n",
    "            self.confirmations += 1\n",
    "        else:\n",
    "            self.conflicts += 1\n",
    "            \n",
    "    def __str__(self):\n",
    "        return \"%s: msg=%s, crc=%s\" % (self.diff_bits_key, self.dm, self.dc)\n",
    "    \n"
   ]
  },
  {
   "cell_type": "code",
   "execution_count": 4,
   "metadata": {
    "collapsed": false
   },
   "outputs": [
    {
     "name": "stdout",
     "output_type": "stream",
     "text": [
      "2016-06-26T20:33:28.412197 ID1:1f01482a PTYPE:PDM SEQ:13 ID2:1f01482a B9:10 BLEN:3 MTYPE:0e01 BODY:00802c CRC:88\n"
     ]
    }
   ],
   "source": [
    "print packets[0]"
   ]
  },
  {
   "cell_type": "code",
   "execution_count": 5,
   "metadata": {
    "collapsed": false
   },
   "outputs": [
    {
     "name": "stdout",
     "output_type": "stream",
     "text": [
      "1f01482aad1f01482a10030e0100802c88\n"
     ]
    }
   ],
   "source": [
    "print packets[0].tx_data().encode('hex')"
   ]
  },
  {
   "cell_type": "code",
   "execution_count": 67,
   "metadata": {
    "collapsed": false
   },
   "outputs": [],
   "source": [
    "# This expresses our theory about which bits are CRC, and which bits\n",
    "# are included in CRC calculation.  Takes a full message and splits it\n",
    "# into message,crc\n",
    "def parts(data):\n",
    "    msg = data[5:-3] # Everything except ID1, byte 4 (sequence & flags), packet crc, and 16bit chksum\n",
    "    chksum = data[-3:-1]\n",
    "    return (msg, chksum)\n",
    "\n",
    "data = [parts(p.tx_data()) for p in packets]\n",
    "#diffs = [DiffMessage(c) for c in itertools.combinations(data, 2)]\n",
    "\n",
    "cracked_bits_dict = {}\n",
    "for c in itertools.combinations(data, 2):\n",
    "    d = DiffMessage(c)\n",
    "    if d.diff_bits_count == 0:\n",
    "        continue\n",
    "    if d.diff_bits_key in cracked_bits_dict:\n",
    "        cracked_bits_dict[d.diff_bits_key].update_observation(d)\n",
    "    else:\n",
    "        cracked_bits_dict[d.diff_bits_key] = d\n",
    "        \n"
   ]
  },
  {
   "cell_type": "code",
   "execution_count": 68,
   "metadata": {
    "collapsed": false
   },
   "outputs": [
    {
     "data": {
      "text/plain": [
       "['36', '35', '34']"
      ]
     },
     "execution_count": 68,
     "metadata": {},
     "output_type": "execute_result"
    }
   ],
   "source": [
    "[key for key in cracked_bits_dict.keys() if len(key.split(':')) == 1]"
   ]
  },
  {
   "cell_type": "code",
   "execution_count": 76,
   "metadata": {
    "collapsed": false
   },
   "outputs": [
    {
     "name": "stdout",
     "output_type": "stream",
     "text": [
      "36:80:115: msg=[0, 0, 0, 0, 8, 0, 0, 0, 0, 0, 128, 0, 0, 0, 16, 0], crc=[129, 61]\n"
     ]
    }
   ],
   "source": [
    "print cracked_bits_dict['36:80:115']"
   ]
  },
  {
   "cell_type": "code",
   "execution_count": 73,
   "metadata": {
    "collapsed": false
   },
   "outputs": [
    {
     "data": {
      "text/plain": [
       "['35:36',\n",
       " '35:80',\n",
       " '78:114',\n",
       " '80:116',\n",
       " '80:115',\n",
       " '34:35',\n",
       " '34:36',\n",
       " '35:37',\n",
       " '34:117',\n",
       " '34:116',\n",
       " '36:116',\n",
       " '35:116',\n",
       " '35:117',\n",
       " '36:37']"
      ]
     },
     "execution_count": 73,
     "metadata": {},
     "output_type": "execute_result"
    }
   ],
   "source": [
    "[key for key in cracked_bits_dict.keys() if len(key.split(':')) == 2]"
   ]
  },
  {
   "cell_type": "code",
   "execution_count": 56,
   "metadata": {
    "collapsed": false,
    "scrolled": false
   },
   "outputs": [
    {
     "data": {
      "text/plain": [
       "['36:78:114',\n",
       " '34:37:117',\n",
       " '36:80:116',\n",
       " '36:80:115',\n",
       " '79:115:117',\n",
       " '79:115:116',\n",
       " '35:36:37',\n",
       " '35:115:116',\n",
       " '79:80:114',\n",
       " '34:36:117',\n",
       " '34:36:116',\n",
       " '34:35:80',\n",
       " '36:37:117',\n",
       " '35:37:117',\n",
       " '35:36:80',\n",
       " '34:35:117',\n",
       " '36:79:80',\n",
       " '34:116:117',\n",
       " '79:114:116',\n",
       " '79:114:117',\n",
       " '79:114:115',\n",
       " '34:35:36',\n",
       " '34:36:80',\n",
       " '34:80:115',\n",
       " '34:80:116',\n",
       " '34:80:117',\n",
       " '35:36:116',\n",
       " '35:79:115',\n",
       " '36:116:117',\n",
       " '35:116:117',\n",
       " '36:79:115',\n",
       " '35:80:116',\n",
       " '35:36:117',\n",
       " '80:115:117']"
      ]
     },
     "execution_count": 56,
     "metadata": {},
     "output_type": "execute_result"
    }
   ],
   "source": [
    "[key for key in cracked_bits_dict.keys() if len(key.split(':')) == 3]"
   ]
  }
 ],
 "metadata": {
  "kernelspec": {
   "display_name": "Python 2",
   "language": "python",
   "name": "python2"
  },
  "language_info": {
   "codemirror_mode": {
    "name": "ipython",
    "version": 2
   },
   "file_extension": ".py",
   "mimetype": "text/x-python",
   "name": "python",
   "nbconvert_exporter": "python",
   "pygments_lexer": "ipython2",
   "version": "2.7.11"
  }
 },
 "nbformat": 4,
 "nbformat_minor": 0
}
