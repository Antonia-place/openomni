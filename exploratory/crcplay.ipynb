{
 "cells": [
  {
   "cell_type": "code",
   "execution_count": 1,
   "metadata": {
    "collapsed": false
   },
   "outputs": [],
   "source": [
    "import crcmod\n",
    "import struct\n",
    "import pandas as pd\n",
    "%matplotlib inline\n",
    "import matplotlib\n",
    "import numpy as np\n",
    "import matplotlib.pyplot as plt\n",
    "\n",
    "\n",
    "# Flip a bit in a messsage\n",
    "def flip_bit(msg, idx):\n",
    "    bit_offset = idx % 8\n",
    "    byte_offset = idx / 8\n",
    "    mask = 0x1 << (7-bit_offset)\n",
    "    return msg[:byte_offset] + chr(ord(msg[byte_offset]) ^ mask) + msg[(byte_offset+1):]\n",
    "\n",
    "def xor_strings(s1,s2):\n",
    "    xored_bytes = [ord(a) ^ ord(b) for a,b in zip(s1,s2)]\n",
    "    return str(bytearray(xored_bytes))\n",
    "\n",
    "def bin_str(s, sep=\"\"):\n",
    "    return sep.join(format(ord(c), '08b') for c in s)\n",
    "\n",
    "def bin_short(short_val):\n",
    "    return bin_str(struct.pack('>H', short_val))\n",
    "    \n"
   ]
  },
  {
   "cell_type": "code",
   "execution_count": 2,
   "metadata": {
    "collapsed": false
   },
   "outputs": [
    {
     "data": {
      "text/plain": [
       "'000000000c00000000000000000000000341'"
      ]
     },
     "execution_count": 2,
     "metadata": {},
     "output_type": "execute_result"
    }
   ],
   "source": [
    "# 1f014829080a1d1802ad2800002bdfff83c5 xor \n",
    "# 1f014829100a1d1802ad2800002bdfff014b = \n",
    "# 00000000180000000000000000000000828e (B1 & C1)\n",
    "\n",
    "# 1f014829080a1d1802ad2800002bdfff83c5 xor\n",
    "# 1f0148291c0a1d1802ad2800002bdfff020a = \n",
    "# 0000000014000000000000000000000081cf (B2 & C2)\n",
    "\n",
    "# 1f02d5af180a1d1801d9180000102fff020a xor\n",
    "# 1f02d5af140a1d1801d9180000102fff014b = \n",
    "# 000000000c00000000000000000000000341\n",
    "\n",
    "# C2 = 0341\n",
    "# B1 xor B2 = 000000000c0000000000000000000000 0341\n",
    "diff1 = xor_strings(\"1f02d5af180a1d1801d9180000102fff020a\".decode('hex'), \"1f02d5af140a1d1801d9180000102fff014b\".decode('hex'))\n",
    "diff1.encode('hex')"
   ]
  },
  {
   "cell_type": "code",
   "execution_count": 3,
   "metadata": {
    "collapsed": false
   },
   "outputs": [
    {
     "name": "stdout",
     "output_type": "stream",
     "text": [
      "m1   11011110101011011011111011101111, crc = 0001010001011101\n",
      "m2   11010110101011011011111011101111, crc = 0101100111111110\n",
      "diff 00001000000000000000000000000000, crc = 0100110110100011\n",
      "                                xored crcs = 0100110110100011\n",
      "================================================================================\n",
      "m1   11011110101011011011111011101111, crc = 0001010001011101\n",
      "m2   11011010101011011011111011101111, crc = 1011000011101100\n",
      "diff 00000100000000000000000000000000, crc = 1010010010110001\n",
      "                                xored crcs = 1010010010110001\n",
      "repoly = 0000010011000001\n",
      "poly   = 0000010011000001\n"
     ]
    }
   ],
   "source": [
    "# look at message differences of a standard crc16\n",
    "\n",
    "poly = 0x104c1\n",
    "crc = crcmod.mkCrcFun(poly, initCrc=0, xorOut=0x0, rev=False)\n",
    "\n",
    "def view_diff(msg, bit_to_flip):\n",
    "    m1 = msg.decode('hex')\n",
    "    m2 = flip_bit(m1,bit_to_flip)\n",
    "\n",
    "    diff = xor_strings(m1,m2)\n",
    "\n",
    "    print \"m1   %s, crc = %s\" % (bin_str(m1), bin_short(crc(m1)))\n",
    "    print \"m2   %s, crc = %s\" % (bin_str(m2), bin_short(crc(m2)))\n",
    "    print \"diff %s, crc = %s\" % (bin_str(diff), bin_short(crc(diff)))\n",
    "    crc_diff = crc(m1) ^ crc(m2)\n",
    "    print \"                                xored crcs = %s\" % bin_short(crc_diff)\n",
    "    return crc_diff\n",
    "\n",
    "crc_diff1 = view_diff(\"deadbeef\", 4)\n",
    "print \"=\" * 80\n",
    "crc_diff2 = view_diff(\"deadbeef\", 5)\n",
    "\n",
    "print \"repoly = %s\" % bin_short(((crc_diff2 << 1) ^ crc_diff1) & 0xffff)\n",
    "print \"poly   = %s\" % bin_short(poly & 0xffff)\n"
   ]
  },
  {
   "cell_type": "code",
   "execution_count": 4,
   "metadata": {
    "collapsed": false
   },
   "outputs": [
    {
     "data": {
      "text/plain": [
       "'0x10641'"
      ]
     },
     "execution_count": 4,
     "metadata": {},
     "output_type": "execute_result"
    }
   ],
   "source": [
    "re_poly = (0b1100010110110010 << 1) ^ 0b1000110100100101\n",
    "hex(re_poly)"
   ]
  },
  {
   "cell_type": "code",
   "execution_count": 25,
   "metadata": {
    "collapsed": true
   },
   "outputs": [],
   "source": [
    "# Messages of length 10\n",
    "single_bit_crcs10 = {\n",
    "    30: 0b1000001010011011,\n",
    "    31: 0b1000000101010001,\n",
    "    34: 0b0000001110010010,\n",
    "    35: 0b1000001100101000,\n",
    "    36: 0b0000001100001110,\n",
    "    37: 0b1000000100001011,\n",
    "}\n",
    "\n",
    "# Messages of length 3\n",
    "single_bit_crcs3 = {\n",
    "    30:  0b1000000100011111,\n",
    "    31:  0b0000001000111100,\n",
    "    34:  0b1000001011011100,\n",
    "    35:  0b0000000111010111,\n",
    "    36:  0b1000001101011001,\n",
    "    37:  0b1000000000011000,\n",
    "    38:  0b1000001010001110,\n",
    "    116: 0b0000000000101010,\n",
    "    117: 0b0000000011011010,\n",
    "}"
   ]
  },
  {
   "cell_type": "code",
   "execution_count": 52,
   "metadata": {
    "collapsed": false
   },
   "outputs": [
    {
     "name": "stdout",
     "output_type": "stream",
     "text": [
      "crc(30) = 1000000100011111\n",
      "crc(31) = 0000001000111100\n",
      "xform   = 1000010101100111\n"
     ]
    },
    {
     "data": {
      "text/plain": [
       "<matplotlib.axes._subplots.AxesSubplot at 0x117939750>"
      ]
     },
     "execution_count": 52,
     "metadata": {},
     "output_type": "execute_result"
    },
    {
     "data": {
      "image/png": "[encoded data removed]",
      "text/plain": [
       "<matplotlib.figure.Figure at 0x117939110>"
      ]
     },
     "metadata": {},
     "output_type": "display_data"
    }
   ],
   "source": [
    "def crc_for(n):\n",
    "    crc = single_bit_crcs3[n]\n",
    "    \n",
    "    # collapse 5 bit 'hole'\n",
    "    #crc = (crc & 0b1111111111) + ((crc >> 5) & 0b10000000000)\n",
    "        \n",
    "    # Drop separate high bit\n",
    "    #crc = crc & 0b1111111111\n",
    "    \n",
    "    # Just look at lowest 8 bits\n",
    "    #crc = crc & 0b11111111\n",
    "    \n",
    "    return crc\n",
    "\n",
    "def xform(a,b):\n",
    "    return ((b << 1) ^ a) & 0xffff\n",
    "\n",
    "def diff_at(n):\n",
    "    d = xform(crc_for(n), crc_for(n+1))\n",
    "    return d\n",
    "\n",
    "def show_diff_at(n):\n",
    "    print \"crc(%d) = %s\" % (n, bin_short(crc_for(n)))\n",
    "    print \"crc(%d) = %s\" % (n+1, bin_short(crc_for(n+1)))\n",
    "    d = diff_at(n)\n",
    "    print \"xform   = %s\" % bin_short(d)    \n",
    "\n",
    "show_diff_at(30)\n",
    "df = pd.DataFrame(map(lambda x: [x, diff_at(x)], [30, 34, 35, 36]), columns=['idx', 'crc'])\n",
    "df.plot.scatter(x='idx', y='crc', marker='.')"
   ]
  }
 ],
 "metadata": {
  "kernelspec": {
   "display_name": "Python 2",
   "language": "python",
   "name": "python2"
  },
  "language_info": {
   "codemirror_mode": {
    "name": "ipython",
    "version": 2
   },
   "file_extension": ".py",
   "mimetype": "text/x-python",
   "name": "python",
   "nbconvert_exporter": "python",
   "pygments_lexer": "ipython2",
   "version": "2.7.11"
  }
 },
 "nbformat": 4,
 "nbformat_minor": 0
}
